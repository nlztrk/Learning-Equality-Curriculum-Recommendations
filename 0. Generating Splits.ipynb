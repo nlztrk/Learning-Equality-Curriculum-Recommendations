{
 "cells": [
  {
   "cell_type": "markdown",
   "id": "5207ec1f",
   "metadata": {
    "papermill": {
     "duration": 0.012317,
     "end_time": "2022-12-16T13:22:40.077281",
     "exception": false,
     "start_time": "2022-12-16T13:22:40.064964",
     "status": "completed"
    },
    "tags": []
   },
   "source": [
    "# Modeling oriented EDA\n",
    "\n",
    "**About** : This notebooks contains the EDA I had to do before starting to build models.\n",
    "It is quite short but contains all the information I needed to get started.\n",
    "\n",
    "No pointless plots, only stuff you'll need for modeling :)"
   ]
  },
  {
   "cell_type": "code",
   "execution_count": 4,
   "id": "e4e5bbaa",
   "metadata": {
    "execution": {
     "iopub.execute_input": "2022-12-16T13:22:40.102324Z",
     "iopub.status.busy": "2022-12-16T13:22:40.101661Z",
     "iopub.status.idle": "2022-12-16T13:22:41.670741Z",
     "shell.execute_reply": "2022-12-16T13:22:41.669120Z"
    },
    "papermill": {
     "duration": 1.58498,
     "end_time": "2022-12-16T13:22:41.674272",
     "exception": false,
     "start_time": "2022-12-16T13:22:40.089292",
     "status": "completed"
    },
    "tags": []
   },
   "outputs": [],
   "source": [
    "import os\n",
    "import json\n",
    "import matplotlib\n",
    "import numpy as np\n",
    "import pandas as pd\n",
    "from tqdm.notebook import tqdm\n",
    "from sklearn.model_selection import StratifiedGroupKFold, GroupKFold\n",
    "\n",
    "matplotlib.rcParams['figure.figsize'] = (12, 8)"
   ]
  },
  {
   "cell_type": "code",
   "execution_count": 5,
   "id": "5ac9a9a3",
   "metadata": {
    "execution": {
     "iopub.execute_input": "2022-12-16T13:22:41.700052Z",
     "iopub.status.busy": "2022-12-16T13:22:41.699543Z",
     "iopub.status.idle": "2022-12-16T13:22:41.705438Z",
     "shell.execute_reply": "2022-12-16T13:22:41.703955Z"
    },
    "papermill": {
     "duration": 0.023327,
     "end_time": "2022-12-16T13:22:41.708354",
     "exception": false,
     "start_time": "2022-12-16T13:22:41.685027",
     "status": "completed"
    },
    "tags": []
   },
   "outputs": [],
   "source": [
    "DATA_PATH = \"../raw_data/\""
   ]
  },
  {
   "cell_type": "code",
   "execution_count": 6,
   "id": "c38c14b5",
   "metadata": {
    "execution": {
     "iopub.execute_input": "2022-12-16T13:22:41.731837Z",
     "iopub.status.busy": "2022-12-16T13:22:41.731417Z",
     "iopub.status.idle": "2022-12-16T13:23:05.855527Z",
     "shell.execute_reply": "2022-12-16T13:23:05.854203Z"
    },
    "papermill": {
     "duration": 24.139111,
     "end_time": "2022-12-16T13:23:05.858134",
     "exception": false,
     "start_time": "2022-12-16T13:22:41.719023",
     "status": "completed"
    },
    "tags": []
   },
   "outputs": [],
   "source": [
    "topics = pd.read_csv(DATA_PATH + \"topics.csv\")\n",
    "content = pd.read_csv(DATA_PATH + \"content.csv\")\n",
    "correlations = pd.read_csv(DATA_PATH + \"correlations.csv\")\n",
    "\n",
    "topics = topics[topics.has_content==True]"
   ]
  },
  {
   "cell_type": "markdown",
   "id": "cb493013",
   "metadata": {},
   "source": [
    "## Split"
   ]
  },
  {
   "cell_type": "code",
   "execution_count": 4,
   "id": "e9c26411",
   "metadata": {},
   "outputs": [],
   "source": [
    "topics_train = topics[topics['category'] == \"source\"][[\"id\"]]\n",
    "topics_train[\"fold\"] = \"train\""
   ]
  },
  {
   "cell_type": "code",
   "execution_count": 5,
   "id": "26e43ad6",
   "metadata": {
    "execution": {
     "iopub.execute_input": "2022-12-16T13:23:12.222085Z",
     "iopub.status.busy": "2022-12-16T13:23:12.221455Z",
     "iopub.status.idle": "2022-12-16T13:23:12.465709Z",
     "shell.execute_reply": "2022-12-16T13:23:12.464474Z"
    },
    "papermill": {
     "duration": 0.264501,
     "end_time": "2022-12-16T13:23:12.468560",
     "exception": false,
     "start_time": "2022-12-16T13:23:12.204059",
     "status": "completed"
    },
    "tags": []
   },
   "outputs": [
    {
     "data": {
      "text/plain": [
       "(array([    0,     2,     3, ..., 25000, 25001, 25002]),\n",
       " array([    1,     5,     9, ..., 24990, 24995, 24998]))"
      ]
     },
     "execution_count": 5,
     "metadata": {},
     "output_type": "execute_result"
    }
   ],
   "source": [
    "topics_val = topics[topics['category'] != \"source\"].reset_index(drop=True)\n",
    "\n",
    "sgkf = StratifiedGroupKFold(random_state=1773,\n",
    "                            n_splits=4,\n",
    "                            shuffle=True)\n",
    "split_idxs = list(sgkf.split(topics_val[\"id\"],\n",
    "                             topics_val[\"language\"],\n",
    "                             groups=topics_val[\"id\"]))[0]\n",
    "\n",
    "split_idxs"
   ]
  },
  {
   "cell_type": "code",
   "execution_count": 6,
   "id": "d10b66af",
   "metadata": {},
   "outputs": [],
   "source": [
    "topics_add_train = topics_val.iloc[split_idxs[0]].reset_index(drop=True)[[\"id\"]]\n",
    "topics_add_train[\"fold\"] = \"train\""
   ]
  },
  {
   "cell_type": "code",
   "execution_count": 7,
   "id": "d6a66f63",
   "metadata": {},
   "outputs": [],
   "source": [
    "topics_train = pd.concat([topics_train, topics_add_train], ignore_index=True)"
   ]
  },
  {
   "cell_type": "code",
   "execution_count": 8,
   "id": "597a3bc7",
   "metadata": {},
   "outputs": [],
   "source": [
    "topics_holdout = topics_val.iloc[split_idxs[1]].reset_index(drop=True)[[\"id\"]]\n",
    "topics_holdout[\"fold\"] = \"test\""
   ]
  },
  {
   "cell_type": "code",
   "execution_count": 9,
   "id": "a94b0d77",
   "metadata": {
    "scrolled": true
   },
   "outputs": [
    {
     "data": {
      "text/plain": [
       "en     24045\n",
       "es     10124\n",
       "pt      3363\n",
       "ar      3173\n",
       "fr      2938\n",
       "bg      2420\n",
       "sw      2063\n",
       "gu      1699\n",
       "bn      1604\n",
       "hi      1264\n",
       "it       722\n",
       "zh       672\n",
       "mr       239\n",
       "fil      163\n",
       "as       112\n",
       "my       110\n",
       "km       104\n",
       "kn        88\n",
       "te        66\n",
       "ur        54\n",
       "or        51\n",
       "ta        44\n",
       "pnb       40\n",
       "swa       33\n",
       "pl        28\n",
       "tr        26\n",
       "ru        21\n",
       "Name: language, dtype: int64"
      ]
     },
     "execution_count": 9,
     "metadata": {},
     "output_type": "execute_result"
    }
   ],
   "source": [
    "topics[topics.id.isin(topics_train.id)].language.value_counts()"
   ]
  },
  {
   "cell_type": "code",
   "execution_count": 10,
   "id": "f5277a8b",
   "metadata": {
    "scrolled": true
   },
   "outputs": [
    {
     "data": {
      "text/plain": [
       "en     12153\n",
       "es      4880\n",
       "bn       384\n",
       "gu       321\n",
       "fr       281\n",
       "hi       255\n",
       "pt       197\n",
       "fil      163\n",
       "sw        71\n",
       "as        47\n",
       "Name: language, dtype: int64"
      ]
     },
     "execution_count": 10,
     "metadata": {},
     "output_type": "execute_result"
    }
   ],
   "source": [
    "topics[topics.id.isin(topics_add_train.id)].language.value_counts()"
   ]
  },
  {
   "cell_type": "code",
   "execution_count": 11,
   "id": "c559862e",
   "metadata": {},
   "outputs": [
    {
     "data": {
      "text/plain": [
       "en     4008\n",
       "es     1645\n",
       "bn      127\n",
       "gu      110\n",
       "hi      109\n",
       "fr       96\n",
       "pt       62\n",
       "fil      61\n",
       "sw       19\n",
       "as       14\n",
       "Name: language, dtype: int64"
      ]
     },
     "execution_count": 11,
     "metadata": {},
     "output_type": "execute_result"
    }
   ],
   "source": [
    "topics[topics.id.isin(topics_holdout.id)].language.value_counts()"
   ]
  },
  {
   "cell_type": "code",
   "execution_count": 12,
   "id": "7b4aadf3",
   "metadata": {
    "execution": {
     "iopub.execute_input": "2022-12-16T13:23:15.013233Z",
     "iopub.status.busy": "2022-12-16T13:23:15.012768Z",
     "iopub.status.idle": "2022-12-16T13:23:15.020818Z",
     "shell.execute_reply": "2022-12-16T13:23:15.019953Z"
    },
    "papermill": {
     "duration": 0.03394,
     "end_time": "2022-12-16T13:23:15.023192",
     "exception": false,
     "start_time": "2022-12-16T13:23:14.989252",
     "status": "completed"
    },
    "tags": []
   },
   "outputs": [],
   "source": [
    "split_df = pd.concat([topics_train, topics_holdout], ignore_index=True)"
   ]
  },
  {
   "cell_type": "code",
   "execution_count": 13,
   "id": "8e19f6c2",
   "metadata": {},
   "outputs": [],
   "source": [
    "split_df.to_csv('train_test_splits.csv', index=False)"
   ]
  },
  {
   "cell_type": "markdown",
   "id": "47cb14bf",
   "metadata": {
    "papermill": {
     "duration": 0.021488,
     "end_time": "2022-12-16T13:23:15.131659",
     "exception": false,
     "start_time": "2022-12-16T13:23:15.110171",
     "status": "completed"
    },
    "tags": []
   },
   "source": [
    "Done !"
   ]
  }
 ],
 "metadata": {
  "kernelspec": {
   "display_name": "Python 3 (ipykernel)",
   "language": "python",
   "name": "python3"
  },
  "language_info": {
   "codemirror_mode": {
    "name": "ipython",
    "version": 3
   },
   "file_extension": ".py",
   "mimetype": "text/x-python",
   "name": "python",
   "nbconvert_exporter": "python",
   "pygments_lexer": "ipython3",
   "version": "3.8.10"
  },
  "papermill": {
   "default_parameters": {},
   "duration": 45.346996,
   "end_time": "2022-12-16T13:23:16.176659",
   "environment_variables": {},
   "exception": null,
   "input_path": "__notebook__.ipynb",
   "output_path": "__notebook__.ipynb",
   "parameters": {},
   "start_time": "2022-12-16T13:22:30.829663",
   "version": "2.3.4"
  }
 },
 "nbformat": 4,
 "nbformat_minor": 5
}
