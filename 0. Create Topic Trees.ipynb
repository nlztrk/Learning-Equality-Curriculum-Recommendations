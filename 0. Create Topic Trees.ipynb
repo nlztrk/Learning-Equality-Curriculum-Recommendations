{
 "cells": [
  {
   "cell_type": "markdown",
   "id": "5207ec1f",
   "metadata": {
    "papermill": {
     "duration": 0.012317,
     "end_time": "2022-12-16T13:22:40.077281",
     "exception": false,
     "start_time": "2022-12-16T13:22:40.064964",
     "status": "completed"
    },
    "tags": []
   },
   "source": [
    "## 0. Generating Topic Trees"
   ]
  },
  {
   "cell_type": "code",
   "execution_count": 1,
   "id": "e4e5bbaa",
   "metadata": {
    "execution": {
     "iopub.execute_input": "2022-12-16T13:22:40.102324Z",
     "iopub.status.busy": "2022-12-16T13:22:40.101661Z",
     "iopub.status.idle": "2022-12-16T13:22:41.670741Z",
     "shell.execute_reply": "2022-12-16T13:22:41.669120Z"
    },
    "papermill": {
     "duration": 1.58498,
     "end_time": "2022-12-16T13:22:41.674272",
     "exception": false,
     "start_time": "2022-12-16T13:22:40.089292",
     "status": "completed"
    },
    "tags": []
   },
   "outputs": [],
   "source": [
    "import pandas as pd\n",
    "\n",
    "# Custom libraries\n",
    "from utils.utils import generate_topic_tree\n",
    "\n",
    "import warnings\n",
    "warnings.filterwarnings('ignore')"
   ]
  },
  {
   "cell_type": "code",
   "execution_count": 2,
   "id": "5ac9a9a3",
   "metadata": {
    "execution": {
     "iopub.execute_input": "2022-12-16T13:22:41.700052Z",
     "iopub.status.busy": "2022-12-16T13:22:41.699543Z",
     "iopub.status.idle": "2022-12-16T13:22:41.705438Z",
     "shell.execute_reply": "2022-12-16T13:22:41.703955Z"
    },
    "papermill": {
     "duration": 0.023327,
     "end_time": "2022-12-16T13:22:41.708354",
     "exception": false,
     "start_time": "2022-12-16T13:22:41.685027",
     "status": "completed"
    },
    "tags": []
   },
   "outputs": [],
   "source": [
    "DATA_PATH = \"../raw_data/\""
   ]
  },
  {
   "cell_type": "code",
   "execution_count": 3,
   "id": "c38c14b5",
   "metadata": {
    "execution": {
     "iopub.execute_input": "2022-12-16T13:22:41.731837Z",
     "iopub.status.busy": "2022-12-16T13:22:41.731417Z",
     "iopub.status.idle": "2022-12-16T13:23:05.855527Z",
     "shell.execute_reply": "2022-12-16T13:23:05.854203Z"
    },
    "papermill": {
     "duration": 24.139111,
     "end_time": "2022-12-16T13:23:05.858134",
     "exception": false,
     "start_time": "2022-12-16T13:22:41.719023",
     "status": "completed"
    },
    "tags": []
   },
   "outputs": [],
   "source": [
    "topics = pd.read_csv(DATA_PATH + \"topics.csv\")"
   ]
  },
  {
   "cell_type": "code",
   "execution_count": 4,
   "id": "141a365f",
   "metadata": {},
   "outputs": [
    {
     "name": "stderr",
     "output_type": "stream",
     "text": [
      "100%|█████████████████████████████████████████| 171/171 [00:08<00:00, 21.02it/s]\n"
     ]
    },
    {
     "data": {
      "text/html": [
       "<div>\n",
       "<style scoped>\n",
       "    .dataframe tbody tr th:only-of-type {\n",
       "        vertical-align: middle;\n",
       "    }\n",
       "\n",
       "    .dataframe tbody tr th {\n",
       "        vertical-align: top;\n",
       "    }\n",
       "\n",
       "    .dataframe thead th {\n",
       "        text-align: right;\n",
       "    }\n",
       "</style>\n",
       "<table border=\"1\" class=\"dataframe\">\n",
       "  <thead>\n",
       "    <tr style=\"text-align: right;\">\n",
       "      <th></th>\n",
       "      <th>id</th>\n",
       "      <th>topic_tree</th>\n",
       "    </tr>\n",
       "  </thead>\n",
       "  <tbody>\n",
       "    <tr>\n",
       "      <th>0</th>\n",
       "      <td>t_00004da3a1b2</td>\n",
       "      <td>Khan Academy (български език) &gt; Наука &gt; Физика...</td>\n",
       "    </tr>\n",
       "    <tr>\n",
       "      <th>1</th>\n",
       "      <td>t_0006d41a73a8</td>\n",
       "      <td>Khan Academy (български език) &gt; Математика &gt; А...</td>\n",
       "    </tr>\n",
       "    <tr>\n",
       "      <th>2</th>\n",
       "      <td>t_0028be2658cd</td>\n",
       "      <td>Khan Academy (български език) &gt; Математика (Бъ...</td>\n",
       "    </tr>\n",
       "    <tr>\n",
       "      <th>3</th>\n",
       "      <td>t_00332f7ec0db</td>\n",
       "      <td>Khan Academy (български език) &gt; Хуманитарни на...</td>\n",
       "    </tr>\n",
       "    <tr>\n",
       "      <th>4</th>\n",
       "      <td>t_007973177106</td>\n",
       "      <td>Khan Academy (български език) &gt; Математика (Бъ...</td>\n",
       "    </tr>\n",
       "    <tr>\n",
       "      <th>...</th>\n",
       "      <td>...</td>\n",
       "      <td>...</td>\n",
       "    </tr>\n",
       "    <tr>\n",
       "      <th>76967</th>\n",
       "      <td>t_e61782edaccd</td>\n",
       "      <td>PhET Interactive Simulations (Español) &gt; Earth...</td>\n",
       "    </tr>\n",
       "    <tr>\n",
       "      <th>76968</th>\n",
       "      <td>t_ef694451ca8a</td>\n",
       "      <td>PhET Interactive Simulations (Español) &gt; By Level</td>\n",
       "    </tr>\n",
       "    <tr>\n",
       "      <th>76969</th>\n",
       "      <td>t_37f833079be5</td>\n",
       "      <td>School of Thought</td>\n",
       "    </tr>\n",
       "    <tr>\n",
       "      <th>76970</th>\n",
       "      <td>t_dc8fe1fdb261</td>\n",
       "      <td>School of Thought &gt; Cognitive Biases</td>\n",
       "    </tr>\n",
       "    <tr>\n",
       "      <th>76971</th>\n",
       "      <td>t_dffd1917be4f</td>\n",
       "      <td>School of Thought &gt; Logical Fallacies</td>\n",
       "    </tr>\n",
       "  </tbody>\n",
       "</table>\n",
       "<p>76972 rows × 2 columns</p>\n",
       "</div>"
      ],
      "text/plain": [
       "                   id                                         topic_tree\n",
       "0      t_00004da3a1b2  Khan Academy (български език) > Наука > Физика...\n",
       "1      t_0006d41a73a8  Khan Academy (български език) > Математика > А...\n",
       "2      t_0028be2658cd  Khan Academy (български език) > Математика (Бъ...\n",
       "3      t_00332f7ec0db  Khan Academy (български език) > Хуманитарни на...\n",
       "4      t_007973177106  Khan Academy (български език) > Математика (Бъ...\n",
       "...               ...                                                ...\n",
       "76967  t_e61782edaccd  PhET Interactive Simulations (Español) > Earth...\n",
       "76968  t_ef694451ca8a  PhET Interactive Simulations (Español) > By Level\n",
       "76969  t_37f833079be5                                  School of Thought\n",
       "76970  t_dc8fe1fdb261               School of Thought > Cognitive Biases\n",
       "76971  t_dffd1917be4f              School of Thought > Logical Fallacies\n",
       "\n",
       "[76972 rows x 2 columns]"
      ]
     },
     "execution_count": 4,
     "metadata": {},
     "output_type": "execute_result"
    }
   ],
   "source": [
    "topic_tree_df = generate_topic_tree(topics)\n",
    "topic_tree_df"
   ]
  },
  {
   "cell_type": "code",
   "execution_count": 5,
   "id": "668a456a",
   "metadata": {},
   "outputs": [],
   "source": [
    "topic_tree_df.to_csv(\"topic_tree.csv\",\n",
    "                     index=False)"
   ]
  }
 ],
 "metadata": {
  "kernelspec": {
   "display_name": "Python 3 (ipykernel)",
   "language": "python",
   "name": "python3"
  },
  "language_info": {
   "codemirror_mode": {
    "name": "ipython",
    "version": 3
   },
   "file_extension": ".py",
   "mimetype": "text/x-python",
   "name": "python",
   "nbconvert_exporter": "python",
   "pygments_lexer": "ipython3",
   "version": "3.8.10"
  },
  "papermill": {
   "default_parameters": {},
   "duration": 45.346996,
   "end_time": "2022-12-16T13:23:16.176659",
   "environment_variables": {},
   "exception": null,
   "input_path": "__notebook__.ipynb",
   "output_path": "__notebook__.ipynb",
   "parameters": {},
   "start_time": "2022-12-16T13:22:30.829663",
   "version": "2.3.4"
  }
 },
 "nbformat": 4,
 "nbformat_minor": 5
}
